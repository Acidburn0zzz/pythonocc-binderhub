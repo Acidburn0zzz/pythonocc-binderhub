{
 "cells": [
  {
   "cell_type": "code",
   "execution_count": 1,
   "metadata": {},
   "outputs": [],
   "source": [
    "from pythreejs import *\n",
    "from IPython.display import display, HTML\n",
    "from ipywidgets import HTML, Text\n",
    "from traitlets import link, dlink\n",
    "from OCC.Display.WebGl.jupyter_renderer import JupyterRenderer\n",
    "from OCC.BRepPrimAPI import BRepPrimAPI_MakeTorus\n",
    "from OCC.Visualization import Tesselator\n",
    "import numpy as np"
   ]
  },
  {
   "cell_type": "code",
   "execution_count": 2,
   "metadata": {},
   "outputs": [],
   "source": [
    "def tesselate_torus(r1, r2):\n",
    "    \"\"\" creates a torus and compute its triangular tesselation \"\"\"\n",
    "    torus_shape = BRepPrimAPI_MakeTorus(radius_1, radius_2).Shape()\n",
    "    tess = Tesselator(torus_shape)\n",
    "    tess.Compute()\n",
    "    vertices_position = tess.GetVerticesPositionAsTuple()\n",
    "    number_of_vertices = len(vertices_position)\n",
    "    np_vertices = np.array(vertices_position, dtype='float32').reshape(int(number_of_vertices / 3), 3)\n",
    "    nbr_faces = number_of_vertices / 3\n",
    "    np_faces = np.arange(np_vertices.shape[0], dtype='uint32')\n",
    "    return np_vertices, np_faces"
   ]
  },
  {
   "cell_type": "code",
   "execution_count": 3,
   "metadata": {},
   "outputs": [],
   "source": [
    "radius_1 = 40.\n",
    "radius_2 = 10."
   ]
  },
  {
   "cell_type": "code",
   "execution_count": 4,
   "metadata": {},
   "outputs": [
    {
     "name": "stdout",
     "output_type": "stream",
     "text": [
      "40.0 10.0\n"
     ]
    },
    {
     "data": {
      "application/vnd.jupyter.widget-view+json": {
       "model_id": "4ca380a604d74ead9fbd68e49ba40a66",
       "version_major": 2,
       "version_minor": 0
      },
      "text/html": [
       "<p>Failed to display Jupyter Widget of type <code>Renderer</code>.</p>\n",
       "<p>\n",
       "  If you're reading this message in the Jupyter Notebook or JupyterLab Notebook, it may mean\n",
       "  that the widgets JavaScript is still loading. If this message persists, it\n",
       "  likely means that the widgets JavaScript library is either not installed or\n",
       "  not enabled. See the <a href=\"https://ipywidgets.readthedocs.io/en/stable/user_install.html\">Jupyter\n",
       "  Widgets Documentation</a> for setup instructions.\n",
       "</p>\n",
       "<p>\n",
       "  If you're reading this message in another frontend (for example, a static\n",
       "  rendering on GitHub or <a href=\"https://nbviewer.jupyter.org/\">NBViewer</a>),\n",
       "  it may mean that your frontend doesn't currently support widgets.\n",
       "</p>\n"
      ],
      "text/plain": [
       "Renderer(background='white', camera=PerspectiveCamera(children=(DirectionalLight(intensity=0.5, position=(150.0, 150.0, 150.0), quaternion=(0.0, 0.0, 0.0, 1.0), scale=(1.0, 1.0, 1.0), up=(0.0, 1.0, 0.0)),), position=(0.0, 100.0, 100.0), quaternion=(0.0, 0.0, 0.0, 1.0), scale=(1.0, 1.0, 1.0), up=(0.0, 1.0, 0.0)), controls=[TrackballControls(controlling=PerspectiveCamera(children=(DirectionalLight(intensity=0.5, position=(150.0, 150.0, 150.0), quaternion=(0.0, 0.0, 0.0, 1.0), scale=(1.0, 1.0, 1.0), up=(0.0, 1.0, 0.0)),), position=(0.0, 100.0, 100.0), quaternion=(0.0, 0.0, 0.0, 1.0), scale=(1.0, 1.0, 1.0), up=(0.0, 1.0, 0.0)))], scene=Scene(children=(Mesh(geometry=BufferGeometry(attributes={'position': BufferAttribute(array=array([[ 36.928383 ,  -9.481597 ,  -9.822872 ],\n",
       "       [ 31.321135 , -17.218939 ,  -9.04827  ],\n",
       "       [ 34.6193   ,  -8.888725 ,  -9.04827  ],\n",
       "       ...,\n",
       "       [-33.232265 ,  13.157584 ,  -9.04827  ],\n",
       "       [-28.916054 ,  21.008741 ,  -9.04827  ],\n",
       "       [-27.203812 ,  19.764727 ,  -7.7051325]], dtype=float32)), 'index': BufferAttribute(array=array([   0,    1,    2, ..., 3747, 3748, 3749], dtype=uint32))}), material=MeshPhongMaterial(alphaMap=None, aoMap=None, bumpMap=None, color='red', displacementMap=None, emissiveMap=None, envMap=None, lightMap=None, map=None, normalMap=None, normalScale=(1.0, 1.0), shininess=0.9, specularMap=None), quaternion=(0.0, 0.0, 0.0, 1.0), scale=(1.0, 1.0, 1.0), up=(0.0, 1.0, 0.0)), AmbientLight(color='#101010', quaternion=(0.0, 0.0, 0.0, 1.0), scale=(1.0, 1.0, 1.0), up=(0.0, 1.0, 0.0))), fog=None, overrideMaterial=None, quaternion=(0.0, 0.0, 0.0, 1.0), scale=(1.0, 1.0, 1.0), up=(0.0, 1.0, 0.0)), shadowMap=WebGLShadowMap())"
      ]
     },
     "metadata": {},
     "output_type": "display_data"
    }
   ],
   "source": [
    "vert, fac = tesselate_torus(radius_1, radius_2)\n",
    "\n",
    "buffer_geometry_properties = {'position': BufferAttribute(vert),\n",
    "                              'index'   : BufferAttribute(fac)}\n",
    "\n",
    "shape_geometry = BufferGeometry(attributes=buffer_geometry_properties)\n",
    "shp_material = MeshPhongMaterial(color='red', shininess=0.9)\n",
    "shape_mesh = Mesh(geometry=shape_geometry, material = shp_material)\n",
    "\n",
    "scene_shp = Scene(children=[shape_mesh, AmbientLight(color='#101010')])\n",
    "# create a camera\n",
    "camera = PerspectiveCamera(position=[0, 100, 100],\n",
    "                           fov=50,\n",
    "                           children=[DirectionalLight(color='#ffffff', position=[150, 150, 150], intensity=0.5)])\n",
    "renderer_shp = Renderer(camera=camera,\n",
    "                        background='white',\n",
    "                        background_opacity=1,\n",
    "                        scene = scene_shp,\n",
    "                        controls=[TrackballControls(controlling=camera)])\n",
    "renderer_shp"
   ]
  },
  {
   "cell_type": "code",
   "execution_count": 5,
   "metadata": {},
   "outputs": [],
   "source": [
    "from ipywidgets import FloatSlider, HBox, VBox\n",
    "\n",
    "r1_slider, r2_slider = (FloatSlider(description='radius_1', min=10, max=40, step=1, value=radius_1,\n",
    "                                            continuous_update=False, orientation='vertical'),\n",
    "                        FloatSlider(description='radius_2', min=10, max=40, step=0.01, value=radius_2,\n",
    "                                            continuous_update=False, orientation='vertical'))"
   ]
  },
  {
   "cell_type": "code",
   "execution_count": 6,
   "metadata": {},
   "outputs": [],
   "source": [
    "def update(change):\n",
    "    global buffer_geometry_properties, shape_geometry, shape_mesh, scene_shp\n",
    "    \"\"\" called whenever a slide triggers and event \"\"\"\n",
    "    vert, fac = tesselate_torus(r1_slider.value, r2_slider.value)\n",
    "    buffer_geometry_properties['position'] = BufferAttribute(vert)\n",
    "    buffer_geometry_properties['index'] = BufferAttribute(fac)\n",
    "    shape_geometry = BufferGeometry(attributes=buffer_geometry_properties)\n",
    "    shape_mesh = Mesh(geometry=shape_geometry, material = shp_material)\n",
    "    #scene_shp.children = [shape_mesh, AmbientLight(color='#101010')]\n",
    "    scene_shp.children = list(scene_shp.children) + [shape_mesh]\n",
    "    \n",
    "\n",
    "r1_slider.observe(update, names=['value'])\n",
    "r2_slider.observe(update, names=['value'])"
   ]
  },
  {
   "cell_type": "code",
   "execution_count": 7,
   "metadata": {},
   "outputs": [
    {
     "data": {
      "application/vnd.jupyter.widget-view+json": {
       "model_id": "b6a86cf348074050978586232d91e0af",
       "version_major": 2,
       "version_minor": 0
      },
      "text/html": [
       "<p>Failed to display Jupyter Widget of type <code>VBox</code>.</p>\n",
       "<p>\n",
       "  If you're reading this message in the Jupyter Notebook or JupyterLab Notebook, it may mean\n",
       "  that the widgets JavaScript is still loading. If this message persists, it\n",
       "  likely means that the widgets JavaScript library is either not installed or\n",
       "  not enabled. See the <a href=\"https://ipywidgets.readthedocs.io/en/stable/user_install.html\">Jupyter\n",
       "  Widgets Documentation</a> for setup instructions.\n",
       "</p>\n",
       "<p>\n",
       "  If you're reading this message in another frontend (for example, a static\n",
       "  rendering on GitHub or <a href=\"https://nbviewer.jupyter.org/\">NBViewer</a>),\n",
       "  it may mean that your frontend doesn't currently support widgets.\n",
       "</p>\n"
      ],
      "text/plain": [
       "VBox(children=(HBox(children=(Renderer(background='white', camera=PerspectiveCamera(children=(DirectionalLight(intensity=0.5, position=(150.0, 150.0, 150.0), quaternion=(0.0, 0.0, 0.0, 1.0), scale=(1.0, 1.0, 1.0), up=(0.0, 1.0, 0.0)),), position=(0.0, 100.0, 100.0), quaternion=(0.0, 0.0, 0.0, 1.0), scale=(1.0, 1.0, 1.0), up=(0.0, 1.0, 0.0)), controls=[TrackballControls(controlling=PerspectiveCamera(children=(DirectionalLight(intensity=0.5, position=(150.0, 150.0, 150.0), quaternion=(0.0, 0.0, 0.0, 1.0), scale=(1.0, 1.0, 1.0), up=(0.0, 1.0, 0.0)),), position=(0.0, 100.0, 100.0), quaternion=(0.0, 0.0, 0.0, 1.0), scale=(1.0, 1.0, 1.0), up=(0.0, 1.0, 0.0)))], scene=Scene(children=(Mesh(geometry=BufferGeometry(attributes={'position': BufferAttribute(array=array([[ 36.928383 ,  -9.481597 ,  -9.822872 ],\n",
       "       [ 31.321135 , -17.218939 ,  -9.04827  ],\n",
       "       [ 34.6193   ,  -8.888725 ,  -9.04827  ],\n",
       "       ...,\n",
       "       [-33.232265 ,  13.157584 ,  -9.04827  ],\n",
       "       [-28.916054 ,  21.008741 ,  -9.04827  ],\n",
       "       [-27.203812 ,  19.764727 ,  -7.7051325]], dtype=float32)), 'index': BufferAttribute(array=array([   0,    1,    2, ..., 3747, 3748, 3749], dtype=uint32))}), material=MeshPhongMaterial(alphaMap=None, aoMap=None, bumpMap=None, color='red', displacementMap=None, emissiveMap=None, envMap=None, lightMap=None, map=None, normalMap=None, normalScale=(1.0, 1.0), shininess=0.9, specularMap=None), quaternion=(0.0, 0.0, 0.0, 1.0), scale=(1.0, 1.0, 1.0), up=(0.0, 1.0, 0.0)), AmbientLight(color='#101010', quaternion=(0.0, 0.0, 0.0, 1.0), scale=(1.0, 1.0, 1.0), up=(0.0, 1.0, 0.0))), fog=None, overrideMaterial=None, quaternion=(0.0, 0.0, 0.0, 1.0), scale=(1.0, 1.0, 1.0), up=(0.0, 1.0, 0.0)), shadowMap=WebGLShadowMap()), FloatSlider(value=40.0, continuous_update=False, description='radius_1', max=40.0, min=10.0, orientation='vertical', step=1.0), FloatSlider(value=10.0, continuous_update=False, description='radius_2', max=40.0, min=10.0, orientation='vertical', step=0.01))),))"
      ]
     },
     "metadata": {},
     "output_type": "display_data"
    },
    {
     "name": "stdout",
     "output_type": "stream",
     "text": [
      "35.0 10.0\n",
      "32.0 10.0\n"
     ]
    }
   ],
   "source": [
    "VBox([HBox([renderer_shp, r1_slider, r2_slider])])"
   ]
  },
  {
   "cell_type": "code",
   "execution_count": null,
   "metadata": {},
   "outputs": [],
   "source": []
  }
 ],
 "metadata": {
  "kernelspec": {
   "display_name": "Python 3",
   "language": "python",
   "name": "python3"
  },
  "language_info": {
   "codemirror_mode": {
    "name": "ipython",
    "version": 3
   },
   "file_extension": ".py",
   "mimetype": "text/x-python",
   "name": "python",
   "nbconvert_exporter": "python",
   "pygments_lexer": "ipython3",
   "version": "3.6.4"
  }
 },
 "nbformat": 4,
 "nbformat_minor": 2
}
